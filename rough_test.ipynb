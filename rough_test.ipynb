{
 "cells": [
  {
   "cell_type": "code",
   "execution_count": 1,
   "metadata": {},
   "outputs": [],
   "source": [
    "import numpy as np\n",
    "import pandas as pd"
   ]
  },
  {
   "cell_type": "code",
   "execution_count": 2,
   "metadata": {},
   "outputs": [
    {
     "data": {
      "text/plain": [
       "array([0.42888887, 0.36280888, 0.51081565, 0.2251271 , 0.49620628,\n",
       "       0.62747578, 0.88185148, 0.91977778, 0.67975926, 0.78440634])"
      ]
     },
     "execution_count": 2,
     "metadata": {},
     "output_type": "execute_result"
    }
   ],
   "source": [
    "np.random.random(10)"
   ]
  },
  {
   "cell_type": "code",
   "execution_count": 3,
   "metadata": {},
   "outputs": [
    {
     "data": {
      "text/plain": [
       "array([[0.17534537, 0.96752237, 0.25556557, 0.50204003, 0.94266278],\n",
       "       [0.13815161, 0.57214353, 0.34749934, 0.74813755, 0.06782801],\n",
       "       [0.86234474, 0.72724788, 0.04620927, 0.40431461, 0.58367747],\n",
       "       [0.5157217 , 0.61504088, 0.68753489, 0.49826384, 0.21386182],\n",
       "       [0.35953352, 0.73618205, 0.46899433, 0.38952136, 0.93114444],\n",
       "       [0.96974846, 0.20297101, 0.53460063, 0.40884808, 0.88995046],\n",
       "       [0.57037056, 0.58258532, 0.68952696, 0.7474188 , 0.36310639],\n",
       "       [0.30219856, 0.09056737, 0.53563873, 0.38050544, 0.48797239],\n",
       "       [0.04885601, 0.78103068, 0.22130828, 0.17053571, 0.20083919],\n",
       "       [0.65530387, 0.27067372, 0.20885857, 0.8711259 , 0.54102573]])"
      ]
     },
     "execution_count": 3,
     "metadata": {},
     "output_type": "execute_result"
    }
   ],
   "source": [
    "np.random.random((10,5))"
   ]
  },
  {
   "cell_type": "code",
   "execution_count": 4,
   "metadata": {},
   "outputs": [
    {
     "data": {
      "text/plain": [
       "array([[0.6392341 , 0.80587331, 0.68926026, 0.34991575, 0.97974773],\n",
       "       [0.18102029, 0.48927706, 0.22189382, 0.12511527, 0.07412391],\n",
       "       [0.28647055, 0.05477574, 0.59085467, 0.06964673, 0.67719394],\n",
       "       [0.22656508, 0.03775774, 0.30109704, 0.02561533, 0.80904211],\n",
       "       [0.619643  , 0.96417386, 0.63406001, 0.66562578, 0.31196685],\n",
       "       [0.84594435, 0.39687642, 0.329856  , 0.37701438, 0.98970707],\n",
       "       [0.23703313, 0.61889367, 0.16442422, 0.5813601 , 0.40036352],\n",
       "       [0.64307277, 0.68153012, 0.59413463, 0.53897306, 0.54161613],\n",
       "       [0.45440722, 0.29249066, 0.04999099, 0.66653659, 0.92175431],\n",
       "       [0.63318234, 0.16728223, 0.61259124, 0.73276695, 0.36302312]])"
      ]
     },
     "execution_count": 4,
     "metadata": {},
     "output_type": "execute_result"
    }
   ],
   "source": [
    "np.random.rand(10,5)"
   ]
  },
  {
   "cell_type": "code",
   "execution_count": 5,
   "metadata": {},
   "outputs": [
    {
     "data": {
      "text/plain": [
       "array([[-0.83434683, -0.83691187,  1.04109819, -0.98483543, -0.70248977],\n",
       "       [ 0.71934976, -0.10213796, -0.17795656, -0.62703215, -0.01624405],\n",
       "       [-0.83014059, -0.42813531, -0.21135135,  3.303304  ,  1.10035018],\n",
       "       [-0.35938866,  0.31468698,  0.44773863, -1.08755965,  0.39556737],\n",
       "       [-1.0499959 , -0.43268678, -0.23318501,  0.5586935 ,  0.52674153],\n",
       "       [ 0.54126614,  1.59980524,  0.544393  ,  0.38541516, -0.13808203],\n",
       "       [ 0.19919842, -1.6004929 , -0.92235899,  0.41219043, -1.21395122],\n",
       "       [-0.31654501, -0.05362197, -0.04965456, -0.81882284, -1.57605134],\n",
       "       [ 0.98609361, -1.27464862,  0.43038722, -0.04931669, -0.87942925],\n",
       "       [ 0.78620274,  0.06947663, -0.14114946, -0.29520904, -1.05194092]])"
      ]
     },
     "execution_count": 5,
     "metadata": {},
     "output_type": "execute_result"
    }
   ],
   "source": [
    "np.random.randn(10,5)"
   ]
  },
  {
   "cell_type": "code",
   "execution_count": 6,
   "metadata": {},
   "outputs": [
    {
     "data": {
      "text/plain": [
       "array([ 0.47492163, -0.22895746,  0.84553308,  1.07252011,  0.98937995,\n",
       "       -1.69104149, -0.07881665, -0.15894286,  1.66855772, -0.77374812])"
      ]
     },
     "execution_count": 6,
     "metadata": {},
     "output_type": "execute_result"
    }
   ],
   "source": [
    "np.random.randn(10)"
   ]
  },
  {
   "cell_type": "code",
   "execution_count": 7,
   "metadata": {},
   "outputs": [
    {
     "data": {
      "text/plain": [
       "array([0.0581014 , 0.6167771 , 0.29685758, 0.47654144, 0.49294453,\n",
       "       0.48330285, 0.66266687, 0.73806222, 0.98448605, 0.84068958,\n",
       "       0.30929078, 0.07310984, 0.27605729, 0.56466438])"
      ]
     },
     "execution_count": 7,
     "metadata": {},
     "output_type": "execute_result"
    }
   ],
   "source": [
    "np.random.rand(14)"
   ]
  },
  {
   "cell_type": "code",
   "execution_count": 8,
   "metadata": {},
   "outputs": [
    {
     "data": {
      "text/plain": [
       "28"
      ]
     },
     "execution_count": 8,
     "metadata": {},
     "output_type": "execute_result"
    }
   ],
   "source": [
    "np.random.randint(48)"
   ]
  },
  {
   "cell_type": "code",
   "execution_count": 9,
   "metadata": {},
   "outputs": [
    {
     "data": {
      "text/plain": [
       "array([8, 3])"
      ]
     },
     "execution_count": 9,
     "metadata": {},
     "output_type": "execute_result"
    }
   ],
   "source": [
    "np.random.randint((10,6))"
   ]
  },
  {
   "cell_type": "code",
   "execution_count": 10,
   "metadata": {},
   "outputs": [
    {
     "data": {
      "text/plain": [
       "17.27985994503867"
      ]
     },
     "execution_count": 10,
     "metadata": {},
     "output_type": "execute_result"
    }
   ],
   "source": [
    "np.random.normal(20)"
   ]
  },
  {
   "cell_type": "code",
   "execution_count": 11,
   "metadata": {},
   "outputs": [
    {
     "data": {
      "text/plain": [
       "array([8.0432111 , 3.59037296])"
      ]
     },
     "execution_count": 11,
     "metadata": {},
     "output_type": "execute_result"
    }
   ],
   "source": [
    "np.random.normal((10,4))"
   ]
  },
  {
   "cell_type": "code",
   "execution_count": 12,
   "metadata": {},
   "outputs": [
    {
     "data": {
      "text/plain": [
       "17.865787245748095"
      ]
     },
     "execution_count": 12,
     "metadata": {},
     "output_type": "execute_result"
    }
   ],
   "source": [
    "np.random.normal(10,4)"
   ]
  },
  {
   "cell_type": "code",
   "execution_count": 20,
   "metadata": {},
   "outputs": [
    {
     "ename": "TypeError",
     "evalue": "descriptor 'rand' requires a 'numpy.random.mtrand.RandomState' object but received a 'int'",
     "output_type": "error",
     "traceback": [
      "\u001b[1;31m---------------------------------------------------------------------------\u001b[0m",
      "\u001b[1;31mTypeError\u001b[0m                                 Traceback (most recent call last)",
      "\u001b[1;32m<ipython-input-20-40f5072370ba>\u001b[0m in \u001b[0;36m<module>\u001b[1;34m\u001b[0m\n\u001b[1;32m----> 1\u001b[1;33m \u001b[0ma\u001b[0m \u001b[1;33m=\u001b[0m \u001b[0mnp\u001b[0m\u001b[1;33m.\u001b[0m\u001b[0mrandom\u001b[0m\u001b[1;33m.\u001b[0m\u001b[0mRandomState\u001b[0m\u001b[1;33m.\u001b[0m\u001b[0mrand\u001b[0m\u001b[1;33m(\u001b[0m\u001b[1;36m3\u001b[0m\u001b[1;33m)\u001b[0m\u001b[1;33m\u001b[0m\u001b[1;33m\u001b[0m\u001b[0m\n\u001b[0m\u001b[0;32m      2\u001b[0m \u001b[0ma\u001b[0m\u001b[1;33m\u001b[0m\u001b[1;33m\u001b[0m\u001b[0m\n",
      "\u001b[1;31mTypeError\u001b[0m: descriptor 'rand' requires a 'numpy.random.mtrand.RandomState' object but received a 'int'"
     ]
    }
   ],
   "source": [
    "a = np.random.RandomState.rand(3)\n",
    "a"
   ]
  },
  {
   "cell_type": "code",
   "execution_count": null,
   "metadata": {},
   "outputs": [],
   "source": []
  }
 ],
 "metadata": {
  "kernelspec": {
   "display_name": "Python 3",
   "language": "python",
   "name": "python3"
  },
  "language_info": {
   "codemirror_mode": {
    "name": "ipython",
    "version": 3
   },
   "file_extension": ".py",
   "mimetype": "text/x-python",
   "name": "python",
   "nbconvert_exporter": "python",
   "pygments_lexer": "ipython3",
   "version": "3.6.8"
  }
 },
 "nbformat": 4,
 "nbformat_minor": 2
}
