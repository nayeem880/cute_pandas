{
 "cells": [
  {
   "cell_type": "code",
   "execution_count": 1,
   "metadata": {},
   "outputs": [],
   "source": [
    "import numpy as np\n",
    "import pandas as pd"
   ]
  },
  {
   "cell_type": "code",
   "execution_count": 2,
   "metadata": {},
   "outputs": [
    {
     "data": {
      "text/plain": [
       "array([0.81534597, 0.02597225, 0.5722683 , 0.7847575 , 0.40092699,\n",
       "       0.56333354, 0.88252298, 0.8526049 , 0.9067409 , 0.91908411])"
      ]
     },
     "execution_count": 2,
     "metadata": {},
     "output_type": "execute_result"
    }
   ],
   "source": [
    "np.random.random(10)"
   ]
  },
  {
   "cell_type": "code",
   "execution_count": 3,
   "metadata": {},
   "outputs": [
    {
     "data": {
      "text/plain": [
       "array([[0.15209497, 0.29130902, 0.93557216, 0.84243091, 0.8183793 ],\n",
       "       [0.29739104, 0.2827198 , 0.08802746, 0.46858592, 0.13580803],\n",
       "       [0.39657203, 0.92200417, 0.71354683, 0.82578035, 0.41511716],\n",
       "       [0.78316246, 0.69648264, 0.02771941, 0.66198834, 0.72677154],\n",
       "       [0.78547079, 0.0751836 , 0.31974366, 0.12490038, 0.50280961],\n",
       "       [0.3263982 , 0.6462255 , 0.0744911 , 0.4453279 , 0.79125361],\n",
       "       [0.62544473, 0.63562609, 0.18289849, 0.49773585, 0.99240998],\n",
       "       [0.9985354 , 0.37073357, 0.73106032, 0.9583964 , 0.98355305],\n",
       "       [0.5429916 , 0.85569293, 0.58285429, 0.03630355, 0.07040817],\n",
       "       [0.56553288, 0.70716834, 0.85423049, 0.19793956, 0.38944968]])"
      ]
     },
     "execution_count": 3,
     "metadata": {},
     "output_type": "execute_result"
    }
   ],
   "source": [
    "np.random.random((10,5))"
   ]
  },
  {
   "cell_type": "code",
   "execution_count": 5,
   "metadata": {},
   "outputs": [
    {
     "data": {
      "text/plain": [
       "array([[0.47332078, 0.9682253 , 0.05151733, 0.36462662, 0.10195323],\n",
       "       [0.71278486, 0.93602033, 0.15450586, 0.36174183, 0.57659369],\n",
       "       [0.04893727, 0.10048482, 0.97903548, 0.55314451, 0.63019657],\n",
       "       [0.38426881, 0.76846797, 0.90965861, 0.19841685, 0.54324246],\n",
       "       [0.63274642, 0.15133107, 0.53777106, 0.51678381, 0.23093487],\n",
       "       [0.66970722, 0.45477524, 0.97661526, 0.58188458, 0.85150339],\n",
       "       [0.87829539, 0.25774719, 0.48381395, 0.99548169, 0.35649826],\n",
       "       [0.45785059, 0.49184909, 0.73223214, 0.82205074, 0.63145903],\n",
       "       [0.0532968 , 0.69231313, 0.35781848, 0.64488928, 0.53959431],\n",
       "       [0.40171882, 0.19055851, 0.81076357, 0.69414201, 0.7573808 ]])"
      ]
     },
     "execution_count": 5,
     "metadata": {},
     "output_type": "execute_result"
    }
   ],
   "source": [
    "np.random.rand(10,5)"
   ]
  },
  {
   "cell_type": "code",
   "execution_count": 6,
   "metadata": {},
   "outputs": [
    {
     "data": {
      "text/plain": [
       "array([[-0.16106464, -0.65703894,  0.04145933,  1.17113516,  0.40046666],\n",
       "       [-0.02269298,  0.87486678, -0.94035194, -0.9903777 , -0.27125357],\n",
       "       [ 0.97778382,  0.97152954, -1.01535792,  0.95291654,  1.65560489],\n",
       "       [ 0.67040373, -0.53602278,  1.50486144, -2.88747224, -0.54338668],\n",
       "       [-0.29684688,  0.62244347, -0.4994299 , -1.86188589, -1.13659874],\n",
       "       [ 0.14979027, -0.46555296,  0.71694365, -1.52788844,  1.82030989],\n",
       "       [-0.23714836,  0.36525566,  1.09261835,  0.15997753, -0.95626801],\n",
       "       [-0.69176354, -0.11012776,  1.67304742, -0.94756179, -1.23726594],\n",
       "       [-0.20371844, -0.12536311,  0.03744032,  0.95849859,  0.35684619],\n",
       "       [-0.41834038,  0.84529049,  1.16908579,  0.34970623, -1.59578709]])"
      ]
     },
     "execution_count": 6,
     "metadata": {},
     "output_type": "execute_result"
    }
   ],
   "source": [
    "np.random.randn(10,5)"
   ]
  },
  {
   "cell_type": "code",
   "execution_count": 11,
   "metadata": {},
   "outputs": [
    {
     "data": {
      "text/plain": [
       "array([-0.14775261,  1.04281702, -1.37257733,  0.62234139, -0.35989443,\n",
       "        1.1848246 ,  1.21375902,  0.16179977,  0.19206752, -0.66593567])"
      ]
     },
     "execution_count": 11,
     "metadata": {},
     "output_type": "execute_result"
    }
   ],
   "source": [
    "np.random.randn(10)"
   ]
  },
  {
   "cell_type": "code",
   "execution_count": 29,
   "metadata": {},
   "outputs": [
    {
     "data": {
      "text/plain": [
       "array([0.09413394, 0.90080445, 0.55832585, 0.75910302, 0.38989614,\n",
       "       0.87494406, 0.92831081, 0.64616491, 0.20052222, 0.22190656,\n",
       "       0.40137832, 0.69499546, 0.91060983, 0.95544003])"
      ]
     },
     "execution_count": 29,
     "metadata": {},
     "output_type": "execute_result"
    }
   ],
   "source": [
    "np.random.rand(14)"
   ]
  },
  {
   "cell_type": "code",
   "execution_count": 14,
   "metadata": {},
   "outputs": [
    {
     "data": {
      "text/plain": [
       "18"
      ]
     },
     "execution_count": 14,
     "metadata": {},
     "output_type": "execute_result"
    }
   ],
   "source": [
    "np.random.randint(48)"
   ]
  },
  {
   "cell_type": "code",
   "execution_count": 32,
   "metadata": {},
   "outputs": [
    {
     "data": {
      "text/plain": [
       "array([8, 5])"
      ]
     },
     "execution_count": 32,
     "metadata": {},
     "output_type": "execute_result"
    }
   ],
   "source": [
    "np.random.randint((10,6))"
   ]
  },
  {
   "cell_type": "code",
   "execution_count": 28,
   "metadata": {},
   "outputs": [
    {
     "data": {
      "text/plain": [
       "21.32927335054341"
      ]
     },
     "execution_count": 28,
     "metadata": {},
     "output_type": "execute_result"
    }
   ],
   "source": [
    "np.random.normal(20)"
   ]
  },
  {
   "cell_type": "code",
   "execution_count": 24,
   "metadata": {},
   "outputs": [
    {
     "data": {
      "text/plain": [
       "array([10.94328254,  4.34367677])"
      ]
     },
     "execution_count": 24,
     "metadata": {},
     "output_type": "execute_result"
    }
   ],
   "source": [
    "np.random.normal((10,4))"
   ]
  },
  {
   "cell_type": "code",
   "execution_count": 25,
   "metadata": {},
   "outputs": [
    {
     "data": {
      "text/plain": [
       "13.156979917879672"
      ]
     },
     "execution_count": 25,
     "metadata": {},
     "output_type": "execute_result"
    }
   ],
   "source": [
    "np.random.normal(10,4)"
   ]
  },
  {
   "cell_type": "code",
   "execution_count": null,
   "metadata": {},
   "outputs": [],
   "source": []
  }
 ],
 "metadata": {
  "kernelspec": {
   "display_name": "Python 3",
   "language": "python",
   "name": "python3"
  },
  "language_info": {
   "codemirror_mode": {
    "name": "ipython",
    "version": 3
   },
   "file_extension": ".py",
   "mimetype": "text/x-python",
   "name": "python",
   "nbconvert_exporter": "python",
   "pygments_lexer": "ipython3",
   "version": "3.6.8"
  }
 },
 "nbformat": 4,
 "nbformat_minor": 2
}
